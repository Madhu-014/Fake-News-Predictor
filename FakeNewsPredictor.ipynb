{
  "cells": [
    {
      "cell_type": "markdown",
      "metadata": {
        "id": "wWKAnEMK_ALb"
      },
      "source": [
        "About the Dataset:\n",
        "\n",
        "1. id: unique id for a news article\n",
        "2. title: the title of a news article\n",
        "3. author: author of the news article\n",
        "4. text: the text of the article; could be incomplete\n",
        "5. label: a label that marks whether the news article is real or fake:\n",
        "           1: Fake news\n",
        "           0: real News\n",
        "\n",
        "\n",
        "\n"
      ]
    },
    {
      "cell_type": "code",
      "execution_count": 1,
      "metadata": {
        "id": "kPqeaSMK-6MC"
      },
      "outputs": [],
      "source": [
        "import numpy as np\n",
        "import pandas as pd\n",
        "import re\n",
        "from nltk.corpus import stopwords\n",
        "from nltk.stem.porter import PorterStemmer\n",
        "from sklearn.feature_extraction.text import TfidfVectorizer\n",
        "from sklearn.model_selection import train_test_split\n",
        "from sklearn.linear_model import LogisticRegression\n",
        "from sklearn.metrics import accuracy_score"
      ]
    },
    {
      "cell_type": "code",
      "execution_count": 2,
      "metadata": {
        "colab": {
          "base_uri": "https://localhost:8080/"
        },
        "id": "QrIG7JKK_0Hj",
        "outputId": "b3714ba1-9410-47f8-bf0c-2967c7cdaa24"
      },
      "outputs": [
        {
          "name": "stderr",
          "output_type": "stream",
          "text": [
            "[nltk_data] Downloading package stopwords to /root/nltk_data...\n",
            "[nltk_data]   Unzipping corpora/stopwords.zip.\n"
          ]
        },
        {
          "data": {
            "text/plain": [
              "True"
            ]
          },
          "execution_count": 2,
          "metadata": {},
          "output_type": "execute_result"
        }
      ],
      "source": [
        "import nltk\n",
        "nltk.download('stopwords')"
      ]
    },
    {
      "cell_type": "code",
      "execution_count": 3,
      "metadata": {
        "colab": {
          "base_uri": "https://localhost:8080/"
        },
        "id": "FcSMKK7b_FJ-",
        "outputId": "44aab72e-a619-40c5-9f3f-030c062b3fe6"
      },
      "outputs": [
        {
          "name": "stdout",
          "output_type": "stream",
          "text": [
            "['a', 'about', 'above', 'after', 'again', 'against', 'ain', 'all', 'am', 'an', 'and', 'any', 'are', 'aren', \"aren't\", 'as', 'at', 'be', 'because', 'been', 'before', 'being', 'below', 'between', 'both', 'but', 'by', 'can', 'couldn', \"couldn't\", 'd', 'did', 'didn', \"didn't\", 'do', 'does', 'doesn', \"doesn't\", 'doing', 'don', \"don't\", 'down', 'during', 'each', 'few', 'for', 'from', 'further', 'had', 'hadn', \"hadn't\", 'has', 'hasn', \"hasn't\", 'have', 'haven', \"haven't\", 'having', 'he', \"he'd\", \"he'll\", 'her', 'here', 'hers', 'herself', \"he's\", 'him', 'himself', 'his', 'how', 'i', \"i'd\", 'if', \"i'll\", \"i'm\", 'in', 'into', 'is', 'isn', \"isn't\", 'it', \"it'd\", \"it'll\", \"it's\", 'its', 'itself', \"i've\", 'just', 'll', 'm', 'ma', 'me', 'mightn', \"mightn't\", 'more', 'most', 'mustn', \"mustn't\", 'my', 'myself', 'needn', \"needn't\", 'no', 'nor', 'not', 'now', 'o', 'of', 'off', 'on', 'once', 'only', 'or', 'other', 'our', 'ours', 'ourselves', 'out', 'over', 'own', 're', 's', 'same', 'shan', \"shan't\", 'she', \"she'd\", \"she'll\", \"she's\", 'should', 'shouldn', \"shouldn't\", \"should've\", 'so', 'some', 'such', 't', 'than', 'that', \"that'll\", 'the', 'their', 'theirs', 'them', 'themselves', 'then', 'there', 'these', 'they', \"they'd\", \"they'll\", \"they're\", \"they've\", 'this', 'those', 'through', 'to', 'too', 'under', 'until', 'up', 've', 'very', 'was', 'wasn', \"wasn't\", 'we', \"we'd\", \"we'll\", \"we're\", 'were', 'weren', \"weren't\", \"we've\", 'what', 'when', 'where', 'which', 'while', 'who', 'whom', 'why', 'will', 'with', 'won', \"won't\", 'wouldn', \"wouldn't\", 'y', 'you', \"you'd\", \"you'll\", 'your', \"you're\", 'yours', 'yourself', 'yourselves', \"you've\"]\n"
          ]
        }
      ],
      "source": [
        "# printing the stopwords in English\n",
        "print(stopwords.words('english'))"
      ]
    },
    {
      "cell_type": "code",
      "execution_count": null,
      "metadata": {
        "colab": {
          "base_uri": "https://localhost:8080/",
          "height": 426
        },
        "collapsed": true,
        "id": "gNEwJl0TAB8M",
        "outputId": "196d2565-7b86-41ad-ff6d-388013476e5a"
      },
      "outputs": [
        {
          "name": "stdout",
          "output_type": "stream",
          "text": [
            "Mounted at /content/drive\n"
          ]
        },
        {
          "ename": "FileNotFoundError",
          "evalue": "[Errno 2] No such file or directory: '/content/True.csv'",
          "output_type": "error",
          "traceback": [
            "\u001b[0;31m---------------------------------------------------------------------------\u001b[0m",
            "\u001b[0;31mFileNotFoundError\u001b[0m                         Traceback (most recent call last)",
            "\u001b[0;32m/tmp/ipython-input-3088426906.py\u001b[0m in \u001b[0;36m<cell line: 0>\u001b[0;34m()\u001b[0m\n\u001b[1;32m     11\u001b[0m \u001b[0;34m\u001b[0m\u001b[0m\n\u001b[1;32m     12\u001b[0m \u001b[0;31m# Load your datasets (make sure you uploaded True.csv and Fake.csv to this folder)\u001b[0m\u001b[0;34m\u001b[0m\u001b[0;34m\u001b[0m\u001b[0m\n\u001b[0;32m---> 13\u001b[0;31m \u001b[0mtrue_df\u001b[0m \u001b[0;34m=\u001b[0m \u001b[0mpd\u001b[0m\u001b[0;34m.\u001b[0m\u001b[0mread_csv\u001b[0m\u001b[0;34m(\u001b[0m\u001b[0;34m\"/content/True.csv\"\u001b[0m\u001b[0;34m)\u001b[0m\u001b[0;34m\u001b[0m\u001b[0;34m\u001b[0m\u001b[0m\n\u001b[0m\u001b[1;32m     14\u001b[0m \u001b[0mfake_df\u001b[0m \u001b[0;34m=\u001b[0m \u001b[0mpd\u001b[0m\u001b[0;34m.\u001b[0m\u001b[0mread_csv\u001b[0m\u001b[0;34m(\u001b[0m\u001b[0;34m\"/content/Fake.csv\"\u001b[0m\u001b[0;34m)\u001b[0m\u001b[0;34m\u001b[0m\u001b[0;34m\u001b[0m\u001b[0m\n\u001b[1;32m     15\u001b[0m \u001b[0;34m\u001b[0m\u001b[0m\n",
            "\u001b[0;32m/usr/local/lib/python3.12/dist-packages/pandas/io/parsers/readers.py\u001b[0m in \u001b[0;36mread_csv\u001b[0;34m(filepath_or_buffer, sep, delimiter, header, names, index_col, usecols, dtype, engine, converters, true_values, false_values, skipinitialspace, skiprows, skipfooter, nrows, na_values, keep_default_na, na_filter, verbose, skip_blank_lines, parse_dates, infer_datetime_format, keep_date_col, date_parser, date_format, dayfirst, cache_dates, iterator, chunksize, compression, thousands, decimal, lineterminator, quotechar, quoting, doublequote, escapechar, comment, encoding, encoding_errors, dialect, on_bad_lines, delim_whitespace, low_memory, memory_map, float_precision, storage_options, dtype_backend)\u001b[0m\n\u001b[1;32m   1024\u001b[0m     \u001b[0mkwds\u001b[0m\u001b[0;34m.\u001b[0m\u001b[0mupdate\u001b[0m\u001b[0;34m(\u001b[0m\u001b[0mkwds_defaults\u001b[0m\u001b[0;34m)\u001b[0m\u001b[0;34m\u001b[0m\u001b[0;34m\u001b[0m\u001b[0m\n\u001b[1;32m   1025\u001b[0m \u001b[0;34m\u001b[0m\u001b[0m\n\u001b[0;32m-> 1026\u001b[0;31m     \u001b[0;32mreturn\u001b[0m \u001b[0m_read\u001b[0m\u001b[0;34m(\u001b[0m\u001b[0mfilepath_or_buffer\u001b[0m\u001b[0;34m,\u001b[0m \u001b[0mkwds\u001b[0m\u001b[0;34m)\u001b[0m\u001b[0;34m\u001b[0m\u001b[0;34m\u001b[0m\u001b[0m\n\u001b[0m\u001b[1;32m   1027\u001b[0m \u001b[0;34m\u001b[0m\u001b[0m\n\u001b[1;32m   1028\u001b[0m \u001b[0;34m\u001b[0m\u001b[0m\n",
            "\u001b[0;32m/usr/local/lib/python3.12/dist-packages/pandas/io/parsers/readers.py\u001b[0m in \u001b[0;36m_read\u001b[0;34m(filepath_or_buffer, kwds)\u001b[0m\n\u001b[1;32m    618\u001b[0m \u001b[0;34m\u001b[0m\u001b[0m\n\u001b[1;32m    619\u001b[0m     \u001b[0;31m# Create the parser.\u001b[0m\u001b[0;34m\u001b[0m\u001b[0;34m\u001b[0m\u001b[0m\n\u001b[0;32m--> 620\u001b[0;31m     \u001b[0mparser\u001b[0m \u001b[0;34m=\u001b[0m \u001b[0mTextFileReader\u001b[0m\u001b[0;34m(\u001b[0m\u001b[0mfilepath_or_buffer\u001b[0m\u001b[0;34m,\u001b[0m \u001b[0;34m**\u001b[0m\u001b[0mkwds\u001b[0m\u001b[0;34m)\u001b[0m\u001b[0;34m\u001b[0m\u001b[0;34m\u001b[0m\u001b[0m\n\u001b[0m\u001b[1;32m    621\u001b[0m \u001b[0;34m\u001b[0m\u001b[0m\n\u001b[1;32m    622\u001b[0m     \u001b[0;32mif\u001b[0m \u001b[0mchunksize\u001b[0m \u001b[0;32mor\u001b[0m \u001b[0miterator\u001b[0m\u001b[0;34m:\u001b[0m\u001b[0;34m\u001b[0m\u001b[0;34m\u001b[0m\u001b[0m\n",
            "\u001b[0;32m/usr/local/lib/python3.12/dist-packages/pandas/io/parsers/readers.py\u001b[0m in \u001b[0;36m__init__\u001b[0;34m(self, f, engine, **kwds)\u001b[0m\n\u001b[1;32m   1618\u001b[0m \u001b[0;34m\u001b[0m\u001b[0m\n\u001b[1;32m   1619\u001b[0m         \u001b[0mself\u001b[0m\u001b[0;34m.\u001b[0m\u001b[0mhandles\u001b[0m\u001b[0;34m:\u001b[0m \u001b[0mIOHandles\u001b[0m \u001b[0;34m|\u001b[0m \u001b[0;32mNone\u001b[0m \u001b[0;34m=\u001b[0m \u001b[0;32mNone\u001b[0m\u001b[0;34m\u001b[0m\u001b[0;34m\u001b[0m\u001b[0m\n\u001b[0;32m-> 1620\u001b[0;31m         \u001b[0mself\u001b[0m\u001b[0;34m.\u001b[0m\u001b[0m_engine\u001b[0m \u001b[0;34m=\u001b[0m \u001b[0mself\u001b[0m\u001b[0;34m.\u001b[0m\u001b[0m_make_engine\u001b[0m\u001b[0;34m(\u001b[0m\u001b[0mf\u001b[0m\u001b[0;34m,\u001b[0m \u001b[0mself\u001b[0m\u001b[0;34m.\u001b[0m\u001b[0mengine\u001b[0m\u001b[0;34m)\u001b[0m\u001b[0;34m\u001b[0m\u001b[0;34m\u001b[0m\u001b[0m\n\u001b[0m\u001b[1;32m   1621\u001b[0m \u001b[0;34m\u001b[0m\u001b[0m\n\u001b[1;32m   1622\u001b[0m     \u001b[0;32mdef\u001b[0m \u001b[0mclose\u001b[0m\u001b[0;34m(\u001b[0m\u001b[0mself\u001b[0m\u001b[0;34m)\u001b[0m \u001b[0;34m->\u001b[0m \u001b[0;32mNone\u001b[0m\u001b[0;34m:\u001b[0m\u001b[0;34m\u001b[0m\u001b[0;34m\u001b[0m\u001b[0m\n",
            "\u001b[0;32m/usr/local/lib/python3.12/dist-packages/pandas/io/parsers/readers.py\u001b[0m in \u001b[0;36m_make_engine\u001b[0;34m(self, f, engine)\u001b[0m\n\u001b[1;32m   1878\u001b[0m                 \u001b[0;32mif\u001b[0m \u001b[0;34m\"b\"\u001b[0m \u001b[0;32mnot\u001b[0m \u001b[0;32min\u001b[0m \u001b[0mmode\u001b[0m\u001b[0;34m:\u001b[0m\u001b[0;34m\u001b[0m\u001b[0;34m\u001b[0m\u001b[0m\n\u001b[1;32m   1879\u001b[0m                     \u001b[0mmode\u001b[0m \u001b[0;34m+=\u001b[0m \u001b[0;34m\"b\"\u001b[0m\u001b[0;34m\u001b[0m\u001b[0;34m\u001b[0m\u001b[0m\n\u001b[0;32m-> 1880\u001b[0;31m             self.handles = get_handle(\n\u001b[0m\u001b[1;32m   1881\u001b[0m                 \u001b[0mf\u001b[0m\u001b[0;34m,\u001b[0m\u001b[0;34m\u001b[0m\u001b[0;34m\u001b[0m\u001b[0m\n\u001b[1;32m   1882\u001b[0m                 \u001b[0mmode\u001b[0m\u001b[0;34m,\u001b[0m\u001b[0;34m\u001b[0m\u001b[0;34m\u001b[0m\u001b[0m\n",
            "\u001b[0;32m/usr/local/lib/python3.12/dist-packages/pandas/io/common.py\u001b[0m in \u001b[0;36mget_handle\u001b[0;34m(path_or_buf, mode, encoding, compression, memory_map, is_text, errors, storage_options)\u001b[0m\n\u001b[1;32m    871\u001b[0m         \u001b[0;32mif\u001b[0m \u001b[0mioargs\u001b[0m\u001b[0;34m.\u001b[0m\u001b[0mencoding\u001b[0m \u001b[0;32mand\u001b[0m \u001b[0;34m\"b\"\u001b[0m \u001b[0;32mnot\u001b[0m \u001b[0;32min\u001b[0m \u001b[0mioargs\u001b[0m\u001b[0;34m.\u001b[0m\u001b[0mmode\u001b[0m\u001b[0;34m:\u001b[0m\u001b[0;34m\u001b[0m\u001b[0;34m\u001b[0m\u001b[0m\n\u001b[1;32m    872\u001b[0m             \u001b[0;31m# Encoding\u001b[0m\u001b[0;34m\u001b[0m\u001b[0;34m\u001b[0m\u001b[0m\n\u001b[0;32m--> 873\u001b[0;31m             handle = open(\n\u001b[0m\u001b[1;32m    874\u001b[0m                 \u001b[0mhandle\u001b[0m\u001b[0;34m,\u001b[0m\u001b[0;34m\u001b[0m\u001b[0;34m\u001b[0m\u001b[0m\n\u001b[1;32m    875\u001b[0m                 \u001b[0mioargs\u001b[0m\u001b[0;34m.\u001b[0m\u001b[0mmode\u001b[0m\u001b[0;34m,\u001b[0m\u001b[0;34m\u001b[0m\u001b[0;34m\u001b[0m\u001b[0m\n",
            "\u001b[0;31mFileNotFoundError\u001b[0m: [Errno 2] No such file or directory: '/content/True.csv'"
          ]
        }
      ],
      "source": [
        "import pandas as pd\n",
        "from sklearn.model_selection import train_test_split\n",
        "import os\n",
        "\n",
        "# -------------------------------\n",
        "# Configuration\n",
        "# -------------------------------\n",
        "DATA_DIR = \"./data\"            # folder containing True.csv and Fake.csv\n",
        "OUTPUT_DIR = \"./processed\"     # where to save train/test/valid splits\n",
        "os.makedirs(OUTPUT_DIR, exist_ok=True)\n",
        "\n",
        "# -------------------------------\n",
        "# Load Data\n",
        "# -------------------------------\n",
        "true_path = os.path.join(DATA_DIR, \"True.csv\")\n",
        "fake_path = os.path.join(DATA_DIR, \"Fake.csv\")\n",
        "\n",
        "true_df = pd.read_csv(true_path)\n",
        "fake_df = pd.read_csv(fake_path)\n",
        "\n",
        "# -------------------------------\n",
        "# Labeling\n",
        "# -------------------------------\n",
        "true_df[\"label\"] = \"True\"\n",
        "fake_df[\"label\"] = \"Fake\"\n",
        "\n",
        "# Combine and shuffle\n",
        "df = pd.concat([true_df, fake_df], axis=0)\n",
        "df = df.sample(frac=1, random_state=42).reset_index(drop=True)\n",
        "\n",
        "# -------------------------------\n",
        "# Split Data\n",
        "# -------------------------------\n",
        "train_df, test_df = train_test_split(\n",
        "    df, test_size=0.2, random_state=42, stratify=df[\"label\"]\n",
        ")\n",
        "\n",
        "train_df, valid_df = train_test_split(\n",
        "    train_df, test_size=0.1, random_state=42, stratify=train_df[\"label\"]\n",
        ")\n",
        "\n",
        "# -------------------------------\n",
        "# Save Files\n",
        "# -------------------------------\n",
        "train_df.to_csv(os.path.join(OUTPUT_DIR, \"train.csv\"), index=False)\n",
        "test_df.to_csv(os.path.join(OUTPUT_DIR, \"test.csv\"), index=False)\n",
        "valid_df.to_csv(os.path.join(OUTPUT_DIR, \"valid.csv\"), index=False)\n",
        "\n",
        "print(f\"✅ Dataset successfully prepared and saved to '{OUTPUT_DIR}' folder.\")"
      ]
    },
    {
      "cell_type": "code",
      "execution_count": null,
      "metadata": {
        "colab": {
          "base_uri": "https://localhost:8080/"
        },
        "id": "KUvI45RMO1H6",
        "outputId": "285d9a6f-f917-4987-c515-bf780f806e81"
      },
      "outputs": [
        {
          "name": "stdout",
          "output_type": "stream",
          "text": [
            "✅ Dataset loaded successfully!\n",
            "                                               title  \\\n",
            "0  THE OBAMA LEGACY: Worst Economic Growth Of All...   \n",
            "1   Oops: Ammosexual Playing With Gun During Beng...   \n",
            "2  Biden, Ukraine's Poroshenko to meet Thursday: ...   \n",
            "3  U.S.-backed SDF attacks Islamic State in Syria...   \n",
            "4  Zimbabwe's Mnangagwa opens amnesty window for ...   \n",
            "\n",
            "                                                text       subject  \\\n",
            "0   Last week the Commerce Department released it...      politics   \n",
            "1  Thinking about going to the movies? You might ...          News   \n",
            "2  WASHINGTON (Reuters) - U.S. Vice President Joe...  politicsNews   \n",
            "3  BEIRUT (Reuters) - The U.S.-backed Syrian Demo...     worldnews   \n",
            "4  HARARE (Reuters) - Zimbabwe s new president, E...     worldnews   \n",
            "\n",
            "                 date label  \n",
            "0         Apr 2, 2017  Fake  \n",
            "1    January 22, 2016  Fake  \n",
            "2     March 30, 2016   True  \n",
            "3  September 9, 2017   True  \n",
            "4  November 28, 2017   True  \n"
          ]
        }
      ],
      "source": [
        "import pandas as pd\n",
        "import os\n",
        "\n",
        "# -------------------------------\n",
        "# Configuration\n",
        "# -------------------------------\n",
        "DATA_PATH = \"./processed/train.csv\"   # Path to your processed training CSV\n",
        "\n",
        "# -------------------------------\n",
        "# Load Dataset\n",
        "# -------------------------------\n",
        "if os.path.exists(DATA_PATH):\n",
        "    news_dataset = pd.read_csv(DATA_PATH)\n",
        "    print(\"✅ Dataset loaded successfully!\")\n",
        "    print(news_dataset.head())\n",
        "else:\n",
        "    print(f\"❌ Error: File not found at {DATA_PATH}.\")\n",
        "    print(\"Please ensure 'train.csv' exists inside the 'processed' folder.\")"
      ]
    },
    {
      "cell_type": "code",
      "execution_count": 6,
      "metadata": {
        "colab": {
          "base_uri": "https://localhost:8080/"
        },
        "id": "F4AAF0IkPLQu",
        "outputId": "5e0376b1-77ab-49cf-acd0-225fb67245ec"
      },
      "outputs": [
        {
          "data": {
            "text/plain": [
              "(32326, 5)"
            ]
          },
          "execution_count": 6,
          "metadata": {},
          "output_type": "execute_result"
        }
      ],
      "source": [
        "news_dataset.shape"
      ]
    },
    {
      "cell_type": "code",
      "execution_count": 7,
      "metadata": {
        "colab": {
          "base_uri": "https://localhost:8080/",
          "height": 293
        },
        "id": "_KHhdNa6PPFq",
        "outputId": "cbebae42-7cc8-4b25-e8c1-eb1c67c13119"
      },
      "outputs": [
        {
          "data": {
            "application/vnd.google.colaboratory.intrinsic+json": {
              "summary": "{\n  \"name\": \"news_dataset\",\n  \"rows\": 32326,\n  \"fields\": [\n    {\n      \"column\": \"title\",\n      \"properties\": {\n        \"dtype\": \"string\",\n        \"num_unique_values\": 29003,\n        \"samples\": [\n          \"LEFTIST Resentment Peddler, Larry David (Net Worth $800 Million) Claims $5K Prize For Calling Trump A \\u201cRacist\\u201d\",\n          \"WATCH: DEMOCRAT STATE SENATOR Who Said She Wouldn\\u2019t Apologize For Saying She Wished President Trump Would Be Assassinated, Makes Tearful Apology\",\n          \" Hillary Clinton Gives The Perfect Response To Reince Priebus\\u2019 Sexist Tweet\"\n        ],\n        \"semantic_type\": \"\",\n        \"description\": \"\"\n      }\n    },\n    {\n      \"column\": \"text\",\n      \"properties\": {\n        \"dtype\": \"string\",\n        \"num_unique_values\": 28867,\n        \"samples\": [\n          \"Named for Founding Father Elbridge Gerry who signed a law in 1812 as Massachusetts Governor creating distorted voting districts in shapes such as that of a salamander, gerrymandering has been the primary tool of the Republican Party to guarantee and keep power in recent years.Despite getting more votes from the American people, Democrats still wound up with fewer seats in the House of Representatives than Republicans. Republicans even gained dominance over state legislatures in Ohio, Florida, Wisconsin, and several others   all thanks to deviously drawn voting districts that weaken the impact of Democratic voters while giving a total advantage to the GOP.Twelve years ago, the Supreme Court had difficulty deciding whether districts in Pennsylvania had been gerrymandered or not, leading Justice Anthony Kennedy to throw his hands up in frustration that the Court could not grant relief to those who were screwed over by conniving lawmakers. But he did call for seeking a remedy that would nail lawmakers to the wall for gerrymandering. And now Wisconsin Republicans and Republicans across the nation are panicking because a pair of academic scholars have finally found a solution and it all has to do with the nemesis of conservatives everywhere: math.According to ThinkProgress:In a paper published in the University of Chicago Law Review last year, law professor Nicholas Stephanopoulos and political scientist Eric McGhee propose a mathematical formula judges can use to identify suspect maps  an objective test that can be used by judges across the country to sort suspect maps from permissible ones. A hundred different judges can examine the same maps and, provided that they are all skilled at arithmetic, all reach identical conclusions about which maps fall within an acceptable range and which ones should be presumed to be unconstitutional.In other words, Republicans are f*cked if the Supreme Court adopts the formula to make rulings in gerrymandering cases.Wisconsin Republicans have launched legal attacks against the formula, but a three judge panel that includes two Republican-appointed judges have dismissed attempts by GOP lawyers to have the case killed before a full trial proceeds.If the formula is successfully adopted by the judicial branch as the standard of determining if lawmakers unfairly drew gerrymandered districts, it could mark a critical turning point that gives Democrats a chance to compete fairly in red states again, and that could devastate the Republican Party for many elections to conservative lawmakers will have to learn how to campaign competitively instead of relying on cheating to win. Featured image via baystateconservativenews.com \",\n          \"HARARE (Reuters) - In his inaugural address, Zimbabwe President Emmerson Mnangagwa promised on Friday that elections would be held next year as scheduled and outlined a broad vision for restoring economic and financial stability. Mnangagwa, who took over from Robert Mugabe after a military intervention, also told a packed national stadium in Harare that Zimbabwe was ready to re-engage with the outside world but said its land reform process could not be reversed. \",\n          \"NEW YORK (Reuters) - A U.S. news channel and a newspaper will host a debate for the Democratic presidential contenders in New Hampshire a few days before the state\\u2019s primary election, but it remained unclear whether the party will relax its rule banning candidates from non-sanctioned debates. The news channel MSNBC and the New Hampshire Union Leader will hold the debate on Feb. 4 in New Hampshire, the second state in the nation to vote for parties\\u2019 presidential nominees following the Iowa caucuses on Monday, the Union Leader said on its website on Tuesday. But the Democratic National Committee (DNC) raised doubts about whether it would proceed, saying in a statement it had no plans to sanction this debate. It left open the question of whether it would punish any participants by excluding them from the remaining two sanctioned ones. Spokesmen for Hillary Clinton, the former secretary of state who leads most polls, and Martin O\\u2019Malley, a former Maryland governor, said their candidates would be happy to take part, at least in theory. \\u201cHillary Clinton would be happy to participate in a debate in New Hampshire if the other candidates agree, which would allow the DNC to sanction the debate,\\u201d Jennifer Palmieri, a Clinton spokeswoman, said in a statement. A spokesman for U.S. Senator Bernie Sanders of Vermont did not respond to a request for comment. Both Sanders and O\\u2019Malley have criticized the DNC for organizing a relatively skimpy debate schedule. The DNC scheduled only six debates for its 2016 candidates, and, contrary to its practice in previous election years, forbade candidates from taking part in debates not sanctioned by the party. There were 25 Democratic primary debates in 2008 and 15 in 2004, both sanctioned and unsanctioned. DNC Chairwoman Debbie Wasserman Schultz has dismissed criticisms from within her party that she organized relatively few debates and scheduled them at times when viewership might be lower than average in order to protect former Secretary of State Hillary Clinton\\u2019s position as the long-standing front-runner for the nomination. Sanders has recently been drawing near or even, overtaking Clinton in some opinion polls as the first voting draws near, beginning with caucuses in Iowa on Feb. 1 and the New Hampshire election on Feb. 9. \\u201cWe have no plans to sanction any further debates before the upcoming First in the Nation caucuses and primary,\\u201d Wasserman Schultz said in a statement, \\u201cbut will reconvene with our campaigns after those two contests to review our schedule.\\u201d  (Editing by Jonathan Oatis and Richard Chang) SAP is the sponsor of this coverage which is independently produced by the staff of Reuters News Agency.\"\n        ],\n        \"semantic_type\": \"\",\n        \"description\": \"\"\n      }\n    },\n    {\n      \"column\": \"subject\",\n      \"properties\": {\n        \"dtype\": \"category\",\n        \"num_unique_values\": 8,\n        \"samples\": [\n          \"News\",\n          \"Government News\",\n          \"politics\"\n        ],\n        \"semantic_type\": \"\",\n        \"description\": \"\"\n      }\n    },\n    {\n      \"column\": \"date\",\n      \"properties\": {\n        \"dtype\": \"category\",\n        \"num_unique_values\": 2383,\n        \"samples\": [\n          \"January 9, 2017\",\n          \"Dec 25, 2016\",\n          \"February 10, 2016 \"\n        ],\n        \"semantic_type\": \"\",\n        \"description\": \"\"\n      }\n    },\n    {\n      \"column\": \"label\",\n      \"properties\": {\n        \"dtype\": \"category\",\n        \"num_unique_values\": 2,\n        \"samples\": [\n          \"True\",\n          \"Fake\"\n        ],\n        \"semantic_type\": \"\",\n        \"description\": \"\"\n      }\n    }\n  ]\n}",
              "type": "dataframe",
              "variable_name": "news_dataset"
            },
            "text/html": [
              "\n",
              "  <div id=\"df-8c7d61ea-30b9-4759-8d0b-65d32f869c1b\" class=\"colab-df-container\">\n",
              "    <div>\n",
              "<style scoped>\n",
              "    .dataframe tbody tr th:only-of-type {\n",
              "        vertical-align: middle;\n",
              "    }\n",
              "\n",
              "    .dataframe tbody tr th {\n",
              "        vertical-align: top;\n",
              "    }\n",
              "\n",
              "    .dataframe thead th {\n",
              "        text-align: right;\n",
              "    }\n",
              "</style>\n",
              "<table border=\"1\" class=\"dataframe\">\n",
              "  <thead>\n",
              "    <tr style=\"text-align: right;\">\n",
              "      <th></th>\n",
              "      <th>title</th>\n",
              "      <th>text</th>\n",
              "      <th>subject</th>\n",
              "      <th>date</th>\n",
              "      <th>label</th>\n",
              "    </tr>\n",
              "  </thead>\n",
              "  <tbody>\n",
              "    <tr>\n",
              "      <th>0</th>\n",
              "      <td>THE OBAMA LEGACY: Worst Economic Growth Of All...</td>\n",
              "      <td>Last week the Commerce Department released it...</td>\n",
              "      <td>politics</td>\n",
              "      <td>Apr 2, 2017</td>\n",
              "      <td>Fake</td>\n",
              "    </tr>\n",
              "    <tr>\n",
              "      <th>1</th>\n",
              "      <td>Oops: Ammosexual Playing With Gun During Beng...</td>\n",
              "      <td>Thinking about going to the movies? You might ...</td>\n",
              "      <td>News</td>\n",
              "      <td>January 22, 2016</td>\n",
              "      <td>Fake</td>\n",
              "    </tr>\n",
              "    <tr>\n",
              "      <th>2</th>\n",
              "      <td>Biden, Ukraine's Poroshenko to meet Thursday: ...</td>\n",
              "      <td>WASHINGTON (Reuters) - U.S. Vice President Joe...</td>\n",
              "      <td>politicsNews</td>\n",
              "      <td>March 30, 2016</td>\n",
              "      <td>True</td>\n",
              "    </tr>\n",
              "    <tr>\n",
              "      <th>3</th>\n",
              "      <td>U.S.-backed SDF attacks Islamic State in Syria...</td>\n",
              "      <td>BEIRUT (Reuters) - The U.S.-backed Syrian Demo...</td>\n",
              "      <td>worldnews</td>\n",
              "      <td>September 9, 2017</td>\n",
              "      <td>True</td>\n",
              "    </tr>\n",
              "    <tr>\n",
              "      <th>4</th>\n",
              "      <td>Zimbabwe's Mnangagwa opens amnesty window for ...</td>\n",
              "      <td>HARARE (Reuters) - Zimbabwe s new president, E...</td>\n",
              "      <td>worldnews</td>\n",
              "      <td>November 28, 2017</td>\n",
              "      <td>True</td>\n",
              "    </tr>\n",
              "  </tbody>\n",
              "</table>\n",
              "</div>\n",
              "    <div class=\"colab-df-buttons\">\n",
              "\n",
              "  <div class=\"colab-df-container\">\n",
              "    <button class=\"colab-df-convert\" onclick=\"convertToInteractive('df-8c7d61ea-30b9-4759-8d0b-65d32f869c1b')\"\n",
              "            title=\"Convert this dataframe to an interactive table.\"\n",
              "            style=\"display:none;\">\n",
              "\n",
              "  <svg xmlns=\"http://www.w3.org/2000/svg\" height=\"24px\" viewBox=\"0 -960 960 960\">\n",
              "    <path d=\"M120-120v-720h720v720H120Zm60-500h600v-160H180v160Zm220 220h160v-160H400v160Zm0 220h160v-160H400v160ZM180-400h160v-160H180v160Zm440 0h160v-160H620v160ZM180-180h160v-160H180v160Zm440 0h160v-160H620v160Z\"/>\n",
              "  </svg>\n",
              "    </button>\n",
              "\n",
              "  <style>\n",
              "    .colab-df-container {\n",
              "      display:flex;\n",
              "      gap: 12px;\n",
              "    }\n",
              "\n",
              "    .colab-df-convert {\n",
              "      background-color: #E8F0FE;\n",
              "      border: none;\n",
              "      border-radius: 50%;\n",
              "      cursor: pointer;\n",
              "      display: none;\n",
              "      fill: #1967D2;\n",
              "      height: 32px;\n",
              "      padding: 0 0 0 0;\n",
              "      width: 32px;\n",
              "    }\n",
              "\n",
              "    .colab-df-convert:hover {\n",
              "      background-color: #E2EBFA;\n",
              "      box-shadow: 0px 1px 2px rgba(60, 64, 67, 0.3), 0px 1px 3px 1px rgba(60, 64, 67, 0.15);\n",
              "      fill: #174EA6;\n",
              "    }\n",
              "\n",
              "    .colab-df-buttons div {\n",
              "      margin-bottom: 4px;\n",
              "    }\n",
              "\n",
              "    [theme=dark] .colab-df-convert {\n",
              "      background-color: #3B4455;\n",
              "      fill: #D2E3FC;\n",
              "    }\n",
              "\n",
              "    [theme=dark] .colab-df-convert:hover {\n",
              "      background-color: #434B5C;\n",
              "      box-shadow: 0px 1px 3px 1px rgba(0, 0, 0, 0.15);\n",
              "      filter: drop-shadow(0px 1px 2px rgba(0, 0, 0, 0.3));\n",
              "      fill: #FFFFFF;\n",
              "    }\n",
              "  </style>\n",
              "\n",
              "    <script>\n",
              "      const buttonEl =\n",
              "        document.querySelector('#df-8c7d61ea-30b9-4759-8d0b-65d32f869c1b button.colab-df-convert');\n",
              "      buttonEl.style.display =\n",
              "        google.colab.kernel.accessAllowed ? 'block' : 'none';\n",
              "\n",
              "      async function convertToInteractive(key) {\n",
              "        const element = document.querySelector('#df-8c7d61ea-30b9-4759-8d0b-65d32f869c1b');\n",
              "        const dataTable =\n",
              "          await google.colab.kernel.invokeFunction('convertToInteractive',\n",
              "                                                    [key], {});\n",
              "        if (!dataTable) return;\n",
              "\n",
              "        const docLinkHtml = 'Like what you see? Visit the ' +\n",
              "          '<a target=\"_blank\" href=https://colab.research.google.com/notebooks/data_table.ipynb>data table notebook</a>'\n",
              "          + ' to learn more about interactive tables.';\n",
              "        element.innerHTML = '';\n",
              "        dataTable['output_type'] = 'display_data';\n",
              "        await google.colab.output.renderOutput(dataTable, element);\n",
              "        const docLink = document.createElement('div');\n",
              "        docLink.innerHTML = docLinkHtml;\n",
              "        element.appendChild(docLink);\n",
              "      }\n",
              "    </script>\n",
              "  </div>\n",
              "\n",
              "\n",
              "    <div id=\"df-f3eba814-2b14-4f8f-ac4e-62c0840a92f3\">\n",
              "      <button class=\"colab-df-quickchart\" onclick=\"quickchart('df-f3eba814-2b14-4f8f-ac4e-62c0840a92f3')\"\n",
              "                title=\"Suggest charts\"\n",
              "                style=\"display:none;\">\n",
              "\n",
              "<svg xmlns=\"http://www.w3.org/2000/svg\" height=\"24px\"viewBox=\"0 0 24 24\"\n",
              "     width=\"24px\">\n",
              "    <g>\n",
              "        <path d=\"M19 3H5c-1.1 0-2 .9-2 2v14c0 1.1.9 2 2 2h14c1.1 0 2-.9 2-2V5c0-1.1-.9-2-2-2zM9 17H7v-7h2v7zm4 0h-2V7h2v10zm4 0h-2v-4h2v4z\"/>\n",
              "    </g>\n",
              "</svg>\n",
              "      </button>\n",
              "\n",
              "<style>\n",
              "  .colab-df-quickchart {\n",
              "      --bg-color: #E8F0FE;\n",
              "      --fill-color: #1967D2;\n",
              "      --hover-bg-color: #E2EBFA;\n",
              "      --hover-fill-color: #174EA6;\n",
              "      --disabled-fill-color: #AAA;\n",
              "      --disabled-bg-color: #DDD;\n",
              "  }\n",
              "\n",
              "  [theme=dark] .colab-df-quickchart {\n",
              "      --bg-color: #3B4455;\n",
              "      --fill-color: #D2E3FC;\n",
              "      --hover-bg-color: #434B5C;\n",
              "      --hover-fill-color: #FFFFFF;\n",
              "      --disabled-bg-color: #3B4455;\n",
              "      --disabled-fill-color: #666;\n",
              "  }\n",
              "\n",
              "  .colab-df-quickchart {\n",
              "    background-color: var(--bg-color);\n",
              "    border: none;\n",
              "    border-radius: 50%;\n",
              "    cursor: pointer;\n",
              "    display: none;\n",
              "    fill: var(--fill-color);\n",
              "    height: 32px;\n",
              "    padding: 0;\n",
              "    width: 32px;\n",
              "  }\n",
              "\n",
              "  .colab-df-quickchart:hover {\n",
              "    background-color: var(--hover-bg-color);\n",
              "    box-shadow: 0 1px 2px rgba(60, 64, 67, 0.3), 0 1px 3px 1px rgba(60, 64, 67, 0.15);\n",
              "    fill: var(--button-hover-fill-color);\n",
              "  }\n",
              "\n",
              "  .colab-df-quickchart-complete:disabled,\n",
              "  .colab-df-quickchart-complete:disabled:hover {\n",
              "    background-color: var(--disabled-bg-color);\n",
              "    fill: var(--disabled-fill-color);\n",
              "    box-shadow: none;\n",
              "  }\n",
              "\n",
              "  .colab-df-spinner {\n",
              "    border: 2px solid var(--fill-color);\n",
              "    border-color: transparent;\n",
              "    border-bottom-color: var(--fill-color);\n",
              "    animation:\n",
              "      spin 1s steps(1) infinite;\n",
              "  }\n",
              "\n",
              "  @keyframes spin {\n",
              "    0% {\n",
              "      border-color: transparent;\n",
              "      border-bottom-color: var(--fill-color);\n",
              "      border-left-color: var(--fill-color);\n",
              "    }\n",
              "    20% {\n",
              "      border-color: transparent;\n",
              "      border-left-color: var(--fill-color);\n",
              "      border-top-color: var(--fill-color);\n",
              "    }\n",
              "    30% {\n",
              "      border-color: transparent;\n",
              "      border-left-color: var(--fill-color);\n",
              "      border-top-color: var(--fill-color);\n",
              "      border-right-color: var(--fill-color);\n",
              "    }\n",
              "    40% {\n",
              "      border-color: transparent;\n",
              "      border-right-color: var(--fill-color);\n",
              "      border-top-color: var(--fill-color);\n",
              "    }\n",
              "    60% {\n",
              "      border-color: transparent;\n",
              "      border-right-color: var(--fill-color);\n",
              "    }\n",
              "    80% {\n",
              "      border-color: transparent;\n",
              "      border-right-color: var(--fill-color);\n",
              "      border-bottom-color: var(--fill-color);\n",
              "    }\n",
              "    90% {\n",
              "      border-color: transparent;\n",
              "      border-bottom-color: var(--fill-color);\n",
              "    }\n",
              "  }\n",
              "</style>\n",
              "\n",
              "      <script>\n",
              "        async function quickchart(key) {\n",
              "          const quickchartButtonEl =\n",
              "            document.querySelector('#' + key + ' button');\n",
              "          quickchartButtonEl.disabled = true;  // To prevent multiple clicks.\n",
              "          quickchartButtonEl.classList.add('colab-df-spinner');\n",
              "          try {\n",
              "            const charts = await google.colab.kernel.invokeFunction(\n",
              "                'suggestCharts', [key], {});\n",
              "          } catch (error) {\n",
              "            console.error('Error during call to suggestCharts:', error);\n",
              "          }\n",
              "          quickchartButtonEl.classList.remove('colab-df-spinner');\n",
              "          quickchartButtonEl.classList.add('colab-df-quickchart-complete');\n",
              "        }\n",
              "        (() => {\n",
              "          let quickchartButtonEl =\n",
              "            document.querySelector('#df-f3eba814-2b14-4f8f-ac4e-62c0840a92f3 button');\n",
              "          quickchartButtonEl.style.display =\n",
              "            google.colab.kernel.accessAllowed ? 'block' : 'none';\n",
              "        })();\n",
              "      </script>\n",
              "    </div>\n",
              "\n",
              "    </div>\n",
              "  </div>\n"
            ],
            "text/plain": [
              "                                               title  \\\n",
              "0  THE OBAMA LEGACY: Worst Economic Growth Of All...   \n",
              "1   Oops: Ammosexual Playing With Gun During Beng...   \n",
              "2  Biden, Ukraine's Poroshenko to meet Thursday: ...   \n",
              "3  U.S.-backed SDF attacks Islamic State in Syria...   \n",
              "4  Zimbabwe's Mnangagwa opens amnesty window for ...   \n",
              "\n",
              "                                                text       subject  \\\n",
              "0   Last week the Commerce Department released it...      politics   \n",
              "1  Thinking about going to the movies? You might ...          News   \n",
              "2  WASHINGTON (Reuters) - U.S. Vice President Joe...  politicsNews   \n",
              "3  BEIRUT (Reuters) - The U.S.-backed Syrian Demo...     worldnews   \n",
              "4  HARARE (Reuters) - Zimbabwe s new president, E...     worldnews   \n",
              "\n",
              "                 date label  \n",
              "0         Apr 2, 2017  Fake  \n",
              "1    January 22, 2016  Fake  \n",
              "2     March 30, 2016   True  \n",
              "3  September 9, 2017   True  \n",
              "4  November 28, 2017   True  "
            ]
          },
          "execution_count": 7,
          "metadata": {},
          "output_type": "execute_result"
        }
      ],
      "source": [
        "news_dataset.head()"
      ]
    },
    {
      "cell_type": "code",
      "execution_count": 8,
      "metadata": {
        "colab": {
          "base_uri": "https://localhost:8080/",
          "height": 241
        },
        "id": "q3sR4v5OPaiV",
        "outputId": "193920c6-3b6c-4931-9331-3fa2e51e9b7e"
      },
      "outputs": [
        {
          "data": {
            "text/html": [
              "<div>\n",
              "<style scoped>\n",
              "    .dataframe tbody tr th:only-of-type {\n",
              "        vertical-align: middle;\n",
              "    }\n",
              "\n",
              "    .dataframe tbody tr th {\n",
              "        vertical-align: top;\n",
              "    }\n",
              "\n",
              "    .dataframe thead th {\n",
              "        text-align: right;\n",
              "    }\n",
              "</style>\n",
              "<table border=\"1\" class=\"dataframe\">\n",
              "  <thead>\n",
              "    <tr style=\"text-align: right;\">\n",
              "      <th></th>\n",
              "      <th>0</th>\n",
              "    </tr>\n",
              "  </thead>\n",
              "  <tbody>\n",
              "    <tr>\n",
              "      <th>title</th>\n",
              "      <td>0</td>\n",
              "    </tr>\n",
              "    <tr>\n",
              "      <th>text</th>\n",
              "      <td>0</td>\n",
              "    </tr>\n",
              "    <tr>\n",
              "      <th>subject</th>\n",
              "      <td>0</td>\n",
              "    </tr>\n",
              "    <tr>\n",
              "      <th>date</th>\n",
              "      <td>0</td>\n",
              "    </tr>\n",
              "    <tr>\n",
              "      <th>label</th>\n",
              "      <td>0</td>\n",
              "    </tr>\n",
              "  </tbody>\n",
              "</table>\n",
              "</div><br><label><b>dtype:</b> int64</label>"
            ],
            "text/plain": [
              "title      0\n",
              "text       0\n",
              "subject    0\n",
              "date       0\n",
              "label      0\n",
              "dtype: int64"
            ]
          },
          "execution_count": 8,
          "metadata": {},
          "output_type": "execute_result"
        }
      ],
      "source": [
        "# counting the number of missing values in the dataset\n",
        "news_dataset.isnull().sum()"
      ]
    },
    {
      "cell_type": "code",
      "execution_count": 9,
      "metadata": {
        "colab": {
          "base_uri": "https://localhost:8080/"
        },
        "id": "_ZBMA3rUPulr",
        "outputId": "c82c36c0-8031-42d9-9c56-8c84a497f767"
      },
      "outputs": [
        {
          "name": "stdout",
          "output_type": "stream",
          "text": [
            "0         Last week the Commerce Department released it...\n",
            "1        Thinking about going to the movies? You might ...\n",
            "2        WASHINGTON (Reuters) - U.S. Vice President Joe...\n",
            "3        BEIRUT (Reuters) - The U.S.-backed Syrian Demo...\n",
            "4        HARARE (Reuters) - Zimbabwe s new president, E...\n",
            "                               ...                        \n",
            "32321    President Trump was lambasted by Democrats and...\n",
            "32322    JERUSALEM (Reuters) - Israel s defense ministe...\n",
            "32323    Thinking before you speak is basically a requi...\n",
            "32324    The video below is a much watch! A young Donal...\n",
            "32325    PARIS (Reuters) - The mayor of Paris, where a ...\n",
            "Name: text, Length: 32326, dtype: object\n"
          ]
        }
      ],
      "source": [
        "print(news_dataset['text'])"
      ]
    },
    {
      "cell_type": "code",
      "execution_count": 10,
      "metadata": {
        "id": "GuYajEagP7HO"
      },
      "outputs": [],
      "source": [
        "# separating the data & label\n",
        "X = news_dataset.drop(columns='label', axis=1)\n",
        "Y = news_dataset['label']"
      ]
    },
    {
      "cell_type": "code",
      "execution_count": 11,
      "metadata": {
        "colab": {
          "base_uri": "https://localhost:8080/"
        },
        "id": "BnRHlVfVQGhu",
        "outputId": "3dd7d915-ac8d-4f2b-9668-c9cb2c4f61b6"
      },
      "outputs": [
        {
          "name": "stdout",
          "output_type": "stream",
          "text": [
            "                                                   title  \\\n",
            "0      THE OBAMA LEGACY: Worst Economic Growth Of All...   \n",
            "1       Oops: Ammosexual Playing With Gun During Beng...   \n",
            "2      Biden, Ukraine's Poroshenko to meet Thursday: ...   \n",
            "3      U.S.-backed SDF attacks Islamic State in Syria...   \n",
            "4      Zimbabwe's Mnangagwa opens amnesty window for ...   \n",
            "...                                                  ...   \n",
            "32321  WOW! TRUMP UNDERESTIMATED ILLEGAL VOTE: New St...   \n",
            "32322  Israel sees Assad winning Syria war, urges mor...   \n",
            "32323   Afghanistan War Vet Humiliates Republican Opp...   \n",
            "32324  A YOUNG DONALD J TRUMP: The 34-Year Old Shares...   \n",
            "32325  Paris mayor says Trump climate withdrawal 'a m...   \n",
            "\n",
            "                                                    text       subject  \\\n",
            "0       Last week the Commerce Department released it...      politics   \n",
            "1      Thinking about going to the movies? You might ...          News   \n",
            "2      WASHINGTON (Reuters) - U.S. Vice President Joe...  politicsNews   \n",
            "3      BEIRUT (Reuters) - The U.S.-backed Syrian Demo...     worldnews   \n",
            "4      HARARE (Reuters) - Zimbabwe s new president, E...     worldnews   \n",
            "...                                                  ...           ...   \n",
            "32321  President Trump was lambasted by Democrats and...      politics   \n",
            "32322  JERUSALEM (Reuters) - Israel s defense ministe...     worldnews   \n",
            "32323  Thinking before you speak is basically a requi...          News   \n",
            "32324  The video below is a much watch! A young Donal...      politics   \n",
            "32325  PARIS (Reuters) - The mayor of Paris, where a ...  politicsNews   \n",
            "\n",
            "                     date  \n",
            "0             Apr 2, 2017  \n",
            "1        January 22, 2016  \n",
            "2         March 30, 2016   \n",
            "3      September 9, 2017   \n",
            "4      November 28, 2017   \n",
            "...                   ...  \n",
            "32321        Jun 20, 2017  \n",
            "32322    October 3, 2017   \n",
            "32323       June 21, 2016  \n",
            "32324        Dec 23, 2017  \n",
            "32325       June 1, 2017   \n",
            "\n",
            "[32326 rows x 4 columns]\n",
            "0        Fake\n",
            "1        Fake\n",
            "2        True\n",
            "3        True\n",
            "4        True\n",
            "         ... \n",
            "32321    Fake\n",
            "32322    True\n",
            "32323    Fake\n",
            "32324    Fake\n",
            "32325    True\n",
            "Name: label, Length: 32326, dtype: object\n"
          ]
        }
      ],
      "source": [
        "print(X)\n",
        "print(Y)"
      ]
    },
    {
      "cell_type": "code",
      "execution_count": 12,
      "metadata": {
        "id": "SUNJYfLIQKfe"
      },
      "outputs": [],
      "source": [
        "port_stem = PorterStemmer()"
      ]
    },
    {
      "cell_type": "code",
      "execution_count": 13,
      "metadata": {
        "id": "XognYn0RRr5w"
      },
      "outputs": [],
      "source": [
        "def stemming(content):\n",
        "    stemmed_content = re.sub('[^a-zA-Z]',' ',content)\n",
        "    stemmed_content = stemmed_content.lower()\n",
        "    stemmed_content = stemmed_content.split()\n",
        "    stemmed_content = [port_stem.stem(word) for word in stemmed_content if not word in stopwords.words('english')]\n",
        "    stemmed_content = ' '.join(stemmed_content)\n",
        "    return stemmed_content"
      ]
    },
    {
      "cell_type": "code",
      "execution_count": 17,
      "metadata": {
        "id": "sSg60Jv-RwOZ"
      },
      "outputs": [],
      "source": [
        "news_dataset['text'] = news_dataset['text'].apply(stemming)"
      ]
    },
    {
      "cell_type": "code",
      "execution_count": 18,
      "metadata": {
        "colab": {
          "base_uri": "https://localhost:8080/"
        },
        "id": "2jy8y6WOYHOs",
        "outputId": "90194e0d-bf52-4bcc-d734-c6c4bf6a8053"
      },
      "outputs": [
        {
          "name": "stdout",
          "output_type": "stream",
          "text": [
            "0        last week commerc depart releas third revis fo...\n",
            "1        think go movi might want avoid hour secret sol...\n",
            "2        washington reuter u vice presid joe biden ukra...\n",
            "3        beirut reuter u back syrian democrat forc alli...\n",
            "4        harar reuter zimbabw new presid emmerson mnang...\n",
            "                               ...                        \n",
            "32321    presid trump lambast democrat alli media sugge...\n",
            "32322    jerusalem reuter israel defens minist said tue...\n",
            "32323    think speak basic requir skill want lawmak mis...\n",
            "32324    video much watch young donald j trump speak le...\n",
            "32325    pari reuter mayor pari landmark global climat ...\n",
            "Name: text, Length: 32326, dtype: object\n"
          ]
        }
      ],
      "source": [
        "print(news_dataset['text'])"
      ]
    },
    {
      "cell_type": "code",
      "execution_count": 19,
      "metadata": {
        "id": "XJe1s154YQe5"
      },
      "outputs": [],
      "source": [
        "#separating the data and label\n",
        "X = news_dataset['text'].values\n",
        "Y = news_dataset['label'].values"
      ]
    },
    {
      "cell_type": "code",
      "execution_count": 20,
      "metadata": {
        "colab": {
          "base_uri": "https://localhost:8080/"
        },
        "id": "lRneRzSXYU5x",
        "outputId": "1781297e-8dec-41ab-cc8f-2ae726e607e8"
      },
      "outputs": [
        {
          "name": "stdout",
          "output_type": "stream",
          "text": [
            "['last week commerc depart releas third revis fourth quarter gross domest product number came paltri percent mean growth presid obama final year offic end error hope land big thud percent low water mark put obama presid last place among post world war ii presid come econom growth post wwii presid begin harri truman disadvantag begin aftermath war economi contract percent four time contract neg year sinc even best obama econom record truman moder democrat also post two best year growth record percent percent zero percent interest rate gin economi back thirteenth presid mild distinct obama eight full year enact growth polici mani predecessor never two complet term georg h w bush jimmi carter four year gerald ford less three year richard nixon five least bit surpris obama economi failur chronicl seven year column averag growth rate presid johnson percent kennedi percent clinton percent reagan percent carter percent eisenhow percent nixon percent ford percent g h w bush percent g w bush percent truman percent obama percentvia nyp'\n",
            " 'think go movi might want avoid hour secret soldier benghazi film poor review case obviou titl film creat hope draw crowd delusion right wing nut whose hatr hillari clinton surpass passion love firearm respect least film seem done set illustr point januari benghazi film flicker screen drunken ammosexu play substitut peni handgun seat land cinema renton washington accident shot woman sit front accord renton polic preliminari account indic intox suspect enter one theater fumbl handgun possess went strike anoth patron seat front victim rush harborview medic center list critic condit unidentifi year old shooter ran build like fear theater jam full good guy gun lock load readi fire anyth move darken cinema david grushk theater time shoot describ shoot komo news seattl say gunshot thought light bulb explod theater one realli react grushk said time patron realiz woman shot shooter alreadi disappear exit grushk told komo news appear woman shot upper chest shooter father later turn polic arrest famili home newcastl consid badli incid might turn fact one person shot one kill seem almost fortun stori king featur imag credit video screen captur king'\n",
            " 'washington reuter u vice presid joe biden ukrainian presid petro poroshenko visit washington take part nuclear summit meet thursday white hous said biden poroshenko hold work lunch white hous said statement wednesday presid barack obama conven leader countri washington week fourth final nuclear secur summit'\n",
            " ...\n",
            " 'think speak basic requir skill want lawmak missouri gop senat roy blunt get memo wake orlando mass shoot republican accus presid obama weak isi say word radic islam terror gop believ say word magic make terrorist go away exactli would use languag accomplish presid obama demand know remark made last week exactli would chang would make isil less commit tri kill american would bring alli militari strategi serv answer none call threat differ name make go away republican senat roy blunt accus democrat oppon weak terror also said word blunt cowardli dodg draft vietnam war use student defer post accus jason kander twitter despit ft hood boston orlando jasonkand acknowledg root threat face radic islam wrote monday night critic vote kill sever gun control reform would ban suspect terrorist buy gun despit ft hood boston orlando jasonkand acknowledg root threat face radic islam http co rqu terrj mosen roybluntmo roybluntmo june one big realli offens problem blunt attack turn jason kander volunt serv armi nation guard serv tour afghanistan fight war terror fact kander brutal remind blunt repli volunt serv afghanistan fight radic islam terror kander wrote also includ word blunt accus refus say think tweet volunt serv afghanistan fight radic islam terror think tweet http co vde shl k jason kander jasonkand june twitter user quick mock chickenhawk blunt stupid jasonkand roybluntmo big tough royblunt mani defer appli coward manhattan project spconcannon june actual fight terror jasonkand talk fight terror roybluntmo votewiselymo http co quzyq mcey jane dueker janeduek june jasonkand jonfav roybluntmo sen blunt coward vote side terrorist disparag hero actual fought pamela p luv win june jasonkand roybluntmo pic twitter com pql vhgsc kaitlyn catlynaustin june roybluntmo jasonkand think actual fight afghanistan nra build dc hous beganov beganov june roybluntmo erm pretti sure jasonkand volunt serv afghanistan pic twitter com lnjj fjyg ron l pitt ronlpitt june roybluntmo jasonkand say guy draft defer guy fought terrorist afghanistan cale miller cale miller june roy blunt asham embarrass definit think talk write someth ridicul twitter right karma bite hard ass featur imag flickr'\n",
            " 'video much watch young donald j trump speak leadership polit long ran presid insight thought soft spoken manner today enjoy video commentari interview mani year later interview rona barrett year later mani peopl may rememb nearli year ago businessman develop donald trump question whether would want presid unit state someday answer might surpris newschannel sat world renown journalist former gossip columnist rona barrett hone journalist craft interview rich famou late earli barrett reflect back launch pilot program zero america self made millionair first guest develop donald trump spici reput way back barrett said flamboy press made kind guy look back much like today trump way becom billionair year old one first peopl first person ever bought air major facil manhattan barrett said think bonwit teller luxuri depart store time bought air build someth place buy never heard anyon buy air trump first network interview done opul floor penthous gold certain place real gold certain place barrett rememb mean fellow knew live rich life keyt beth farnsworth sat barrett lobbi golden inn villag senior commun built santa ynez valley look back man interview two hour year ago charm barrett said reflect man lead countri today see bravado see interview barrett trump demand worldwid one question pop mouth would like presid unit state look said clip reveal reason trump embrac presid time see mean life also see somebodi strong view somebodi kind view mayb littl bit unpopular might right trump said made sort comment like attitud polit peopl smile babi barrett ad time trump said feel america go forward proper direct use littl potenti nation realli countri get respect countri trump told barrett highli critic handl iranian hostag crisi also said mani peopl far qualifi presid barrett rememb yet refus name name one man could turn countri around trump said interview one proper presid could turn countri around barrett reflect newschannel interview offer person opinion admit doctor expert alway anoth feel interview donald talk barrett reflect alway felt tri prove daddi could bigger better daddi ever could fred trump highli success real estat develop mostli new york citi philanthropist never presid unit state barrett said surpris elder trump son donald announc bid run think presidenti barrett said today barrett stop short come label donald trump good bad presid rather comment polit person anoth human barrett said read keyt'\n",
            " 'pari reuter mayor pari landmark global climat agreement agre decemb said decis u presid donald trump withdraw deal mistak would dramat consequ incred diplomat achiev could secur without decis role unit state america presid trump commit mistak dramat fatal consequ said regardless presid trump decis great citi world particular twelv american c citi remain resolut commit need done implement pari agreement said refer global citi vow fight global warm']\n"
          ]
        }
      ],
      "source": [
        "print(X)"
      ]
    },
    {
      "cell_type": "code",
      "execution_count": 21,
      "metadata": {
        "colab": {
          "base_uri": "https://localhost:8080/"
        },
        "id": "7NUOwhrwYV6d",
        "outputId": "f277f445-5043-41cd-d79f-87050fbbf14b"
      },
      "outputs": [
        {
          "name": "stdout",
          "output_type": "stream",
          "text": [
            "['Fake' 'Fake' 'True' ... 'Fake' 'Fake' 'True']\n"
          ]
        }
      ],
      "source": [
        "print(Y)"
      ]
    },
    {
      "cell_type": "code",
      "execution_count": 22,
      "metadata": {
        "colab": {
          "base_uri": "https://localhost:8080/"
        },
        "id": "nUYZIIcrYcOl",
        "outputId": "f3d55306-59ec-4989-be67-69af810133f0"
      },
      "outputs": [
        {
          "data": {
            "text/plain": [
              "(32326,)"
            ]
          },
          "execution_count": 22,
          "metadata": {},
          "output_type": "execute_result"
        }
      ],
      "source": [
        "Y.shape"
      ]
    },
    {
      "cell_type": "code",
      "execution_count": 23,
      "metadata": {
        "id": "2cpvAhDJYfxc"
      },
      "outputs": [],
      "source": [
        "# converting the textual data to numerical data\n",
        "vectorizer = TfidfVectorizer()\n",
        "vectorizer.fit(X)\n",
        "\n",
        "X = vectorizer.transform(X)"
      ]
    },
    {
      "cell_type": "code",
      "execution_count": 24,
      "metadata": {
        "colab": {
          "base_uri": "https://localhost:8080/"
        },
        "id": "GcKVO4e1Y9J6",
        "outputId": "1f77951e-d6e0-4515-a3e0-582f0cf64357"
      },
      "outputs": [
        {
          "name": "stdout",
          "output_type": "stream",
          "text": [
            "<Compressed Sparse Row sparse matrix of dtype 'float64'\n",
            "\twith 4889546 stored elements and shape (32326, 77507)>\n",
            "  Coords\tValues\n",
            "  (0, 1001)\t0.06605132804204407\n",
            "  (0, 1984)\t0.021694138693682308\n",
            "  (0, 2320)\t0.03695704582043224\n",
            "  (0, 4269)\t0.05468683976980557\n",
            "  (0, 4607)\t0.026402041861559554\n",
            "  (0, 5848)\t0.0848384861485373\n",
            "  (0, 6316)\t0.08112681339753572\n",
            "  (0, 6565)\t0.03899239909404576\n",
            "  (0, 6826)\t0.050454640303167785\n",
            "  (0, 9110)\t0.1444029832613104\n",
            "  (0, 9627)\t0.03651537483090922\n",
            "  (0, 10085)\t0.13046390485089426\n",
            "  (0, 11638)\t0.08055015297130033\n",
            "  (0, 12183)\t0.03220446469138074\n",
            "  (0, 12717)\t0.07242026732584675\n",
            "  (0, 12748)\t0.027397891507127407\n",
            "  (0, 12817)\t0.05997161012659732\n",
            "  (0, 12907)\t0.039579076589588584\n",
            "  (0, 13310)\t0.11316946391847633\n",
            "  (0, 15904)\t0.026396858039882606\n",
            "  (0, 16022)\t0.03446985908949706\n",
            "  (0, 16753)\t0.07871275924808185\n",
            "  (0, 16972)\t0.07147617811309895\n",
            "  (0, 17365)\t0.05052801437496483\n",
            "  (0, 18682)\t0.0796015913604259\n",
            "  :\t:\n",
            "  (32325, 37061)\t0.15172549713037115\n",
            "  (32325, 41355)\t0.11682208401014788\n",
            "  (32325, 43234)\t0.24418650149445303\n",
            "  (32325, 45771)\t0.06364177944674877\n",
            "  (32325, 49951)\t0.3596357074699996\n",
            "  (32325, 50044)\t0.11872226305365728\n",
            "  (32325, 52782)\t0.12525633320802923\n",
            "  (32325, 55628)\t0.0905599130445651\n",
            "  (32325, 55699)\t0.133181859500069\n",
            "  (32325, 55916)\t0.08363924737348229\n",
            "  (32325, 56254)\t0.12269477402627486\n",
            "  (32325, 56393)\t0.04471488879802179\n",
            "  (32325, 57292)\t0.09275899311117698\n",
            "  (32325, 58375)\t0.10163420550866323\n",
            "  (32325, 59880)\t0.0664155487526333\n",
            "  (32325, 63672)\t0.0443117658992765\n",
            "  (32325, 68745)\t0.1321749581414088\n",
            "  (32325, 69315)\t0.18077124235495026\n",
            "  (32325, 70520)\t0.0583315058065791\n",
            "  (32325, 72606)\t0.11492650797058014\n",
            "  (32325, 73105)\t0.1333855167350939\n",
            "  (32325, 74456)\t0.12390603445982369\n",
            "  (32325, 74469)\t0.0780160937010918\n",
            "  (32325, 74818)\t0.0711849546267332\n",
            "  (32325, 74857)\t0.04333769340814473\n"
          ]
        }
      ],
      "source": [
        "print(X)"
      ]
    },
    {
      "cell_type": "code",
      "execution_count": 25,
      "metadata": {
        "id": "4M7DB2Uzspoz"
      },
      "outputs": [],
      "source": [
        "X_train, X_test, Y_train, Y_test = train_test_split(X, Y, test_size = 0.2, stratify=Y, random_state=2)"
      ]
    },
    {
      "cell_type": "code",
      "execution_count": 26,
      "metadata": {
        "id": "VfT6A9b2EmZO"
      },
      "outputs": [],
      "source": [
        "model = LogisticRegression()"
      ]
    },
    {
      "cell_type": "code",
      "execution_count": 27,
      "metadata": {
        "colab": {
          "base_uri": "https://localhost:8080/",
          "height": 80
        },
        "id": "eNNbBwPXK0cq",
        "outputId": "eb0f3982-c46e-4809-e7ae-6e4af0f54e2e"
      },
      "outputs": [
        {
          "data": {
            "text/html": [
              "<style>#sk-container-id-1 {\n",
              "  /* Definition of color scheme common for light and dark mode */\n",
              "  --sklearn-color-text: #000;\n",
              "  --sklearn-color-text-muted: #666;\n",
              "  --sklearn-color-line: gray;\n",
              "  /* Definition of color scheme for unfitted estimators */\n",
              "  --sklearn-color-unfitted-level-0: #fff5e6;\n",
              "  --sklearn-color-unfitted-level-1: #f6e4d2;\n",
              "  --sklearn-color-unfitted-level-2: #ffe0b3;\n",
              "  --sklearn-color-unfitted-level-3: chocolate;\n",
              "  /* Definition of color scheme for fitted estimators */\n",
              "  --sklearn-color-fitted-level-0: #f0f8ff;\n",
              "  --sklearn-color-fitted-level-1: #d4ebff;\n",
              "  --sklearn-color-fitted-level-2: #b3dbfd;\n",
              "  --sklearn-color-fitted-level-3: cornflowerblue;\n",
              "\n",
              "  /* Specific color for light theme */\n",
              "  --sklearn-color-text-on-default-background: var(--sg-text-color, var(--theme-code-foreground, var(--jp-content-font-color1, black)));\n",
              "  --sklearn-color-background: var(--sg-background-color, var(--theme-background, var(--jp-layout-color0, white)));\n",
              "  --sklearn-color-border-box: var(--sg-text-color, var(--theme-code-foreground, var(--jp-content-font-color1, black)));\n",
              "  --sklearn-color-icon: #696969;\n",
              "\n",
              "  @media (prefers-color-scheme: dark) {\n",
              "    /* Redefinition of color scheme for dark theme */\n",
              "    --sklearn-color-text-on-default-background: var(--sg-text-color, var(--theme-code-foreground, var(--jp-content-font-color1, white)));\n",
              "    --sklearn-color-background: var(--sg-background-color, var(--theme-background, var(--jp-layout-color0, #111)));\n",
              "    --sklearn-color-border-box: var(--sg-text-color, var(--theme-code-foreground, var(--jp-content-font-color1, white)));\n",
              "    --sklearn-color-icon: #878787;\n",
              "  }\n",
              "}\n",
              "\n",
              "#sk-container-id-1 {\n",
              "  color: var(--sklearn-color-text);\n",
              "}\n",
              "\n",
              "#sk-container-id-1 pre {\n",
              "  padding: 0;\n",
              "}\n",
              "\n",
              "#sk-container-id-1 input.sk-hidden--visually {\n",
              "  border: 0;\n",
              "  clip: rect(1px 1px 1px 1px);\n",
              "  clip: rect(1px, 1px, 1px, 1px);\n",
              "  height: 1px;\n",
              "  margin: -1px;\n",
              "  overflow: hidden;\n",
              "  padding: 0;\n",
              "  position: absolute;\n",
              "  width: 1px;\n",
              "}\n",
              "\n",
              "#sk-container-id-1 div.sk-dashed-wrapped {\n",
              "  border: 1px dashed var(--sklearn-color-line);\n",
              "  margin: 0 0.4em 0.5em 0.4em;\n",
              "  box-sizing: border-box;\n",
              "  padding-bottom: 0.4em;\n",
              "  background-color: var(--sklearn-color-background);\n",
              "}\n",
              "\n",
              "#sk-container-id-1 div.sk-container {\n",
              "  /* jupyter's `normalize.less` sets `[hidden] { display: none; }`\n",
              "     but bootstrap.min.css set `[hidden] { display: none !important; }`\n",
              "     so we also need the `!important` here to be able to override the\n",
              "     default hidden behavior on the sphinx rendered scikit-learn.org.\n",
              "     See: https://github.com/scikit-learn/scikit-learn/issues/21755 */\n",
              "  display: inline-block !important;\n",
              "  position: relative;\n",
              "}\n",
              "\n",
              "#sk-container-id-1 div.sk-text-repr-fallback {\n",
              "  display: none;\n",
              "}\n",
              "\n",
              "div.sk-parallel-item,\n",
              "div.sk-serial,\n",
              "div.sk-item {\n",
              "  /* draw centered vertical line to link estimators */\n",
              "  background-image: linear-gradient(var(--sklearn-color-text-on-default-background), var(--sklearn-color-text-on-default-background));\n",
              "  background-size: 2px 100%;\n",
              "  background-repeat: no-repeat;\n",
              "  background-position: center center;\n",
              "}\n",
              "\n",
              "/* Parallel-specific style estimator block */\n",
              "\n",
              "#sk-container-id-1 div.sk-parallel-item::after {\n",
              "  content: \"\";\n",
              "  width: 100%;\n",
              "  border-bottom: 2px solid var(--sklearn-color-text-on-default-background);\n",
              "  flex-grow: 1;\n",
              "}\n",
              "\n",
              "#sk-container-id-1 div.sk-parallel {\n",
              "  display: flex;\n",
              "  align-items: stretch;\n",
              "  justify-content: center;\n",
              "  background-color: var(--sklearn-color-background);\n",
              "  position: relative;\n",
              "}\n",
              "\n",
              "#sk-container-id-1 div.sk-parallel-item {\n",
              "  display: flex;\n",
              "  flex-direction: column;\n",
              "}\n",
              "\n",
              "#sk-container-id-1 div.sk-parallel-item:first-child::after {\n",
              "  align-self: flex-end;\n",
              "  width: 50%;\n",
              "}\n",
              "\n",
              "#sk-container-id-1 div.sk-parallel-item:last-child::after {\n",
              "  align-self: flex-start;\n",
              "  width: 50%;\n",
              "}\n",
              "\n",
              "#sk-container-id-1 div.sk-parallel-item:only-child::after {\n",
              "  width: 0;\n",
              "}\n",
              "\n",
              "/* Serial-specific style estimator block */\n",
              "\n",
              "#sk-container-id-1 div.sk-serial {\n",
              "  display: flex;\n",
              "  flex-direction: column;\n",
              "  align-items: center;\n",
              "  background-color: var(--sklearn-color-background);\n",
              "  padding-right: 1em;\n",
              "  padding-left: 1em;\n",
              "}\n",
              "\n",
              "\n",
              "/* Toggleable style: style used for estimator/Pipeline/ColumnTransformer box that is\n",
              "clickable and can be expanded/collapsed.\n",
              "- Pipeline and ColumnTransformer use this feature and define the default style\n",
              "- Estimators will overwrite some part of the style using the `sk-estimator` class\n",
              "*/\n",
              "\n",
              "/* Pipeline and ColumnTransformer style (default) */\n",
              "\n",
              "#sk-container-id-1 div.sk-toggleable {\n",
              "  /* Default theme specific background. It is overwritten whether we have a\n",
              "  specific estimator or a Pipeline/ColumnTransformer */\n",
              "  background-color: var(--sklearn-color-background);\n",
              "}\n",
              "\n",
              "/* Toggleable label */\n",
              "#sk-container-id-1 label.sk-toggleable__label {\n",
              "  cursor: pointer;\n",
              "  display: flex;\n",
              "  width: 100%;\n",
              "  margin-bottom: 0;\n",
              "  padding: 0.5em;\n",
              "  box-sizing: border-box;\n",
              "  text-align: center;\n",
              "  align-items: start;\n",
              "  justify-content: space-between;\n",
              "  gap: 0.5em;\n",
              "}\n",
              "\n",
              "#sk-container-id-1 label.sk-toggleable__label .caption {\n",
              "  font-size: 0.6rem;\n",
              "  font-weight: lighter;\n",
              "  color: var(--sklearn-color-text-muted);\n",
              "}\n",
              "\n",
              "#sk-container-id-1 label.sk-toggleable__label-arrow:before {\n",
              "  /* Arrow on the left of the label */\n",
              "  content: \"▸\";\n",
              "  float: left;\n",
              "  margin-right: 0.25em;\n",
              "  color: var(--sklearn-color-icon);\n",
              "}\n",
              "\n",
              "#sk-container-id-1 label.sk-toggleable__label-arrow:hover:before {\n",
              "  color: var(--sklearn-color-text);\n",
              "}\n",
              "\n",
              "/* Toggleable content - dropdown */\n",
              "\n",
              "#sk-container-id-1 div.sk-toggleable__content {\n",
              "  max-height: 0;\n",
              "  max-width: 0;\n",
              "  overflow: hidden;\n",
              "  text-align: left;\n",
              "  /* unfitted */\n",
              "  background-color: var(--sklearn-color-unfitted-level-0);\n",
              "}\n",
              "\n",
              "#sk-container-id-1 div.sk-toggleable__content.fitted {\n",
              "  /* fitted */\n",
              "  background-color: var(--sklearn-color-fitted-level-0);\n",
              "}\n",
              "\n",
              "#sk-container-id-1 div.sk-toggleable__content pre {\n",
              "  margin: 0.2em;\n",
              "  border-radius: 0.25em;\n",
              "  color: var(--sklearn-color-text);\n",
              "  /* unfitted */\n",
              "  background-color: var(--sklearn-color-unfitted-level-0);\n",
              "}\n",
              "\n",
              "#sk-container-id-1 div.sk-toggleable__content.fitted pre {\n",
              "  /* unfitted */\n",
              "  background-color: var(--sklearn-color-fitted-level-0);\n",
              "}\n",
              "\n",
              "#sk-container-id-1 input.sk-toggleable__control:checked~div.sk-toggleable__content {\n",
              "  /* Expand drop-down */\n",
              "  max-height: 200px;\n",
              "  max-width: 100%;\n",
              "  overflow: auto;\n",
              "}\n",
              "\n",
              "#sk-container-id-1 input.sk-toggleable__control:checked~label.sk-toggleable__label-arrow:before {\n",
              "  content: \"▾\";\n",
              "}\n",
              "\n",
              "/* Pipeline/ColumnTransformer-specific style */\n",
              "\n",
              "#sk-container-id-1 div.sk-label input.sk-toggleable__control:checked~label.sk-toggleable__label {\n",
              "  color: var(--sklearn-color-text);\n",
              "  background-color: var(--sklearn-color-unfitted-level-2);\n",
              "}\n",
              "\n",
              "#sk-container-id-1 div.sk-label.fitted input.sk-toggleable__control:checked~label.sk-toggleable__label {\n",
              "  background-color: var(--sklearn-color-fitted-level-2);\n",
              "}\n",
              "\n",
              "/* Estimator-specific style */\n",
              "\n",
              "/* Colorize estimator box */\n",
              "#sk-container-id-1 div.sk-estimator input.sk-toggleable__control:checked~label.sk-toggleable__label {\n",
              "  /* unfitted */\n",
              "  background-color: var(--sklearn-color-unfitted-level-2);\n",
              "}\n",
              "\n",
              "#sk-container-id-1 div.sk-estimator.fitted input.sk-toggleable__control:checked~label.sk-toggleable__label {\n",
              "  /* fitted */\n",
              "  background-color: var(--sklearn-color-fitted-level-2);\n",
              "}\n",
              "\n",
              "#sk-container-id-1 div.sk-label label.sk-toggleable__label,\n",
              "#sk-container-id-1 div.sk-label label {\n",
              "  /* The background is the default theme color */\n",
              "  color: var(--sklearn-color-text-on-default-background);\n",
              "}\n",
              "\n",
              "/* On hover, darken the color of the background */\n",
              "#sk-container-id-1 div.sk-label:hover label.sk-toggleable__label {\n",
              "  color: var(--sklearn-color-text);\n",
              "  background-color: var(--sklearn-color-unfitted-level-2);\n",
              "}\n",
              "\n",
              "/* Label box, darken color on hover, fitted */\n",
              "#sk-container-id-1 div.sk-label.fitted:hover label.sk-toggleable__label.fitted {\n",
              "  color: var(--sklearn-color-text);\n",
              "  background-color: var(--sklearn-color-fitted-level-2);\n",
              "}\n",
              "\n",
              "/* Estimator label */\n",
              "\n",
              "#sk-container-id-1 div.sk-label label {\n",
              "  font-family: monospace;\n",
              "  font-weight: bold;\n",
              "  display: inline-block;\n",
              "  line-height: 1.2em;\n",
              "}\n",
              "\n",
              "#sk-container-id-1 div.sk-label-container {\n",
              "  text-align: center;\n",
              "}\n",
              "\n",
              "/* Estimator-specific */\n",
              "#sk-container-id-1 div.sk-estimator {\n",
              "  font-family: monospace;\n",
              "  border: 1px dotted var(--sklearn-color-border-box);\n",
              "  border-radius: 0.25em;\n",
              "  box-sizing: border-box;\n",
              "  margin-bottom: 0.5em;\n",
              "  /* unfitted */\n",
              "  background-color: var(--sklearn-color-unfitted-level-0);\n",
              "}\n",
              "\n",
              "#sk-container-id-1 div.sk-estimator.fitted {\n",
              "  /* fitted */\n",
              "  background-color: var(--sklearn-color-fitted-level-0);\n",
              "}\n",
              "\n",
              "/* on hover */\n",
              "#sk-container-id-1 div.sk-estimator:hover {\n",
              "  /* unfitted */\n",
              "  background-color: var(--sklearn-color-unfitted-level-2);\n",
              "}\n",
              "\n",
              "#sk-container-id-1 div.sk-estimator.fitted:hover {\n",
              "  /* fitted */\n",
              "  background-color: var(--sklearn-color-fitted-level-2);\n",
              "}\n",
              "\n",
              "/* Specification for estimator info (e.g. \"i\" and \"?\") */\n",
              "\n",
              "/* Common style for \"i\" and \"?\" */\n",
              "\n",
              ".sk-estimator-doc-link,\n",
              "a:link.sk-estimator-doc-link,\n",
              "a:visited.sk-estimator-doc-link {\n",
              "  float: right;\n",
              "  font-size: smaller;\n",
              "  line-height: 1em;\n",
              "  font-family: monospace;\n",
              "  background-color: var(--sklearn-color-background);\n",
              "  border-radius: 1em;\n",
              "  height: 1em;\n",
              "  width: 1em;\n",
              "  text-decoration: none !important;\n",
              "  margin-left: 0.5em;\n",
              "  text-align: center;\n",
              "  /* unfitted */\n",
              "  border: var(--sklearn-color-unfitted-level-1) 1pt solid;\n",
              "  color: var(--sklearn-color-unfitted-level-1);\n",
              "}\n",
              "\n",
              ".sk-estimator-doc-link.fitted,\n",
              "a:link.sk-estimator-doc-link.fitted,\n",
              "a:visited.sk-estimator-doc-link.fitted {\n",
              "  /* fitted */\n",
              "  border: var(--sklearn-color-fitted-level-1) 1pt solid;\n",
              "  color: var(--sklearn-color-fitted-level-1);\n",
              "}\n",
              "\n",
              "/* On hover */\n",
              "div.sk-estimator:hover .sk-estimator-doc-link:hover,\n",
              ".sk-estimator-doc-link:hover,\n",
              "div.sk-label-container:hover .sk-estimator-doc-link:hover,\n",
              ".sk-estimator-doc-link:hover {\n",
              "  /* unfitted */\n",
              "  background-color: var(--sklearn-color-unfitted-level-3);\n",
              "  color: var(--sklearn-color-background);\n",
              "  text-decoration: none;\n",
              "}\n",
              "\n",
              "div.sk-estimator.fitted:hover .sk-estimator-doc-link.fitted:hover,\n",
              ".sk-estimator-doc-link.fitted:hover,\n",
              "div.sk-label-container:hover .sk-estimator-doc-link.fitted:hover,\n",
              ".sk-estimator-doc-link.fitted:hover {\n",
              "  /* fitted */\n",
              "  background-color: var(--sklearn-color-fitted-level-3);\n",
              "  color: var(--sklearn-color-background);\n",
              "  text-decoration: none;\n",
              "}\n",
              "\n",
              "/* Span, style for the box shown on hovering the info icon */\n",
              ".sk-estimator-doc-link span {\n",
              "  display: none;\n",
              "  z-index: 9999;\n",
              "  position: relative;\n",
              "  font-weight: normal;\n",
              "  right: .2ex;\n",
              "  padding: .5ex;\n",
              "  margin: .5ex;\n",
              "  width: min-content;\n",
              "  min-width: 20ex;\n",
              "  max-width: 50ex;\n",
              "  color: var(--sklearn-color-text);\n",
              "  box-shadow: 2pt 2pt 4pt #999;\n",
              "  /* unfitted */\n",
              "  background: var(--sklearn-color-unfitted-level-0);\n",
              "  border: .5pt solid var(--sklearn-color-unfitted-level-3);\n",
              "}\n",
              "\n",
              ".sk-estimator-doc-link.fitted span {\n",
              "  /* fitted */\n",
              "  background: var(--sklearn-color-fitted-level-0);\n",
              "  border: var(--sklearn-color-fitted-level-3);\n",
              "}\n",
              "\n",
              ".sk-estimator-doc-link:hover span {\n",
              "  display: block;\n",
              "}\n",
              "\n",
              "/* \"?\"-specific style due to the `<a>` HTML tag */\n",
              "\n",
              "#sk-container-id-1 a.estimator_doc_link {\n",
              "  float: right;\n",
              "  font-size: 1rem;\n",
              "  line-height: 1em;\n",
              "  font-family: monospace;\n",
              "  background-color: var(--sklearn-color-background);\n",
              "  border-radius: 1rem;\n",
              "  height: 1rem;\n",
              "  width: 1rem;\n",
              "  text-decoration: none;\n",
              "  /* unfitted */\n",
              "  color: var(--sklearn-color-unfitted-level-1);\n",
              "  border: var(--sklearn-color-unfitted-level-1) 1pt solid;\n",
              "}\n",
              "\n",
              "#sk-container-id-1 a.estimator_doc_link.fitted {\n",
              "  /* fitted */\n",
              "  border: var(--sklearn-color-fitted-level-1) 1pt solid;\n",
              "  color: var(--sklearn-color-fitted-level-1);\n",
              "}\n",
              "\n",
              "/* On hover */\n",
              "#sk-container-id-1 a.estimator_doc_link:hover {\n",
              "  /* unfitted */\n",
              "  background-color: var(--sklearn-color-unfitted-level-3);\n",
              "  color: var(--sklearn-color-background);\n",
              "  text-decoration: none;\n",
              "}\n",
              "\n",
              "#sk-container-id-1 a.estimator_doc_link.fitted:hover {\n",
              "  /* fitted */\n",
              "  background-color: var(--sklearn-color-fitted-level-3);\n",
              "}\n",
              "</style><div id=\"sk-container-id-1\" class=\"sk-top-container\"><div class=\"sk-text-repr-fallback\"><pre>LogisticRegression()</pre><b>In a Jupyter environment, please rerun this cell to show the HTML representation or trust the notebook. <br />On GitHub, the HTML representation is unable to render, please try loading this page with nbviewer.org.</b></div><div class=\"sk-container\" hidden><div class=\"sk-item\"><div class=\"sk-estimator fitted sk-toggleable\"><input class=\"sk-toggleable__control sk-hidden--visually\" id=\"sk-estimator-id-1\" type=\"checkbox\" checked><label for=\"sk-estimator-id-1\" class=\"sk-toggleable__label fitted sk-toggleable__label-arrow\"><div><div>LogisticRegression</div></div><div><a class=\"sk-estimator-doc-link fitted\" rel=\"noreferrer\" target=\"_blank\" href=\"https://scikit-learn.org/1.6/modules/generated/sklearn.linear_model.LogisticRegression.html\">?<span>Documentation for LogisticRegression</span></a><span class=\"sk-estimator-doc-link fitted\">i<span>Fitted</span></span></div></label><div class=\"sk-toggleable__content fitted\"><pre>LogisticRegression()</pre></div> </div></div></div></div>"
            ],
            "text/plain": [
              "LogisticRegression()"
            ]
          },
          "execution_count": 27,
          "metadata": {},
          "output_type": "execute_result"
        }
      ],
      "source": [
        "model.fit(X_train, Y_train)"
      ]
    },
    {
      "cell_type": "code",
      "execution_count": 28,
      "metadata": {
        "id": "CZHD8XByK4Kd"
      },
      "outputs": [],
      "source": [
        "# accuracy score on the training data\n",
        "X_train_prediction = model.predict(X_train)\n",
        "training_data_accuracy = accuracy_score(X_train_prediction, Y_train)"
      ]
    },
    {
      "cell_type": "code",
      "execution_count": 29,
      "metadata": {
        "colab": {
          "base_uri": "https://localhost:8080/"
        },
        "id": "IhdkUsgLLBAj",
        "outputId": "f9ca7284-33ff-40db-c98a-4474d255b121"
      },
      "outputs": [
        {
          "name": "stdout",
          "output_type": "stream",
          "text": [
            "Accuracy score of the training data :  0.9894431554524362\n"
          ]
        }
      ],
      "source": [
        "print('Accuracy score of the training data : ', training_data_accuracy)"
      ]
    },
    {
      "cell_type": "code",
      "execution_count": 30,
      "metadata": {
        "id": "D0XqAfNFLDiR"
      },
      "outputs": [],
      "source": [
        "# accuracy score on the test data\n",
        "X_test_prediction = model.predict(X_test)\n",
        "test_data_accuracy = accuracy_score(X_test_prediction, Y_test)"
      ]
    },
    {
      "cell_type": "code",
      "execution_count": 31,
      "metadata": {
        "colab": {
          "base_uri": "https://localhost:8080/"
        },
        "id": "_TY0gurfLHBv",
        "outputId": "80cbce03-3c46-4813-a1f0-549586963ebf"
      },
      "outputs": [
        {
          "name": "stdout",
          "output_type": "stream",
          "text": [
            "Accuracy score of the test data :  0.9857717290442314\n"
          ]
        }
      ],
      "source": [
        "print('Accuracy score of the test data : ', test_data_accuracy)"
      ]
    },
    {
      "cell_type": "code",
      "execution_count": 33,
      "metadata": {
        "colab": {
          "base_uri": "https://localhost:8080/"
        },
        "id": "KEN8rsLcLJEE",
        "outputId": "21f44370-f850-4adc-8819-6fabc0346d0e"
      },
      "outputs": [
        {
          "name": "stdout",
          "output_type": "stream",
          "text": [
            "['True']\n",
            "The news is Real\n"
          ]
        }
      ],
      "source": [
        "X_new = X_test[3]\n",
        "\n",
        "prediction = model.predict(X_new)\n",
        "print(prediction)\n",
        "\n",
        "if (prediction[0]=='True'):\n",
        "  print('The news is Real')\n",
        "else:\n",
        "  print('The news is Fake')"
      ]
    },
    {
      "cell_type": "code",
      "execution_count": 34,
      "metadata": {
        "colab": {
          "base_uri": "https://localhost:8080/"
        },
        "id": "REakkkVNLR5-",
        "outputId": "fcd31d03-7fe2-4656-93d3-3b9eef5e94e6"
      },
      "outputs": [
        {
          "name": "stdout",
          "output_type": "stream",
          "text": [
            "True\n"
          ]
        }
      ],
      "source": [
        "print(Y_test[3])"
      ]
    }
  ],
  "metadata": {
    "accelerator": "GPU",
    "colab": {
      "gpuType": "T4",
      "provenance": []
    },
    "kernelspec": {
      "display_name": "Python 3",
      "name": "python3"
    },
    "language_info": {
      "name": "python"
    }
  },
  "nbformat": 4,
  "nbformat_minor": 0
}
